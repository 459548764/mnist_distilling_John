{
 "cells": [
  {
   "cell_type": "markdown",
   "metadata": {},
   "source": [
    "#  This is a Simple Student Network"
   ]
  },
  {
   "cell_type": "code",
   "execution_count": 1,
   "metadata": {
    "collapsed": false
   },
   "outputs": [],
   "source": [
    "import tensorflow as tf\n",
    "import numpy as np\n",
    "import tensorflow.contrib.slim as slim\n",
    "from tensorflow.examples.tutorials.mnist import input_data\n",
    "import os\n",
    "import matplotlib.pyplot as plt\n",
    "# display plots in this notebook\n",
    "%matplotlib inline\n",
    "\n",
    "# set display defaults\n",
    "plt.rcParams['figure.figsize'] = (10, 10)        # large images\n",
    "plt.rcParams['image.interpolation'] = 'nearest'  # don't interpolate: show square pixels\n",
    "plt.rcParams['image.cmap'] = 'gray'  # use grayscale output rather than a (potentially misleading) color heatmap\n",
    "\n",
    "# set gpu device\n",
    "#os.environ['CUDA_VISIBLE_DEVICES']='0' "
   ]
  },
  {
   "cell_type": "markdown",
   "metadata": {},
   "source": [
    "##  1. prepare the train and test data "
   ]
  },
  {
   "cell_type": "code",
   "execution_count": 2,
   "metadata": {
    "collapsed": false
   },
   "outputs": [
    {
     "name": "stdout",
     "output_type": "stream",
     "text": [
      "Extracting D:/Deep_Learning/TensorFlow/CS 20SI_youtube_video/class_notes/MNIST_data/train-images-idx3-ubyte.gz\n",
      "Extracting D:/Deep_Learning/TensorFlow/CS 20SI_youtube_video/class_notes/MNIST_data/train-labels-idx1-ubyte.gz\n",
      "Extracting D:/Deep_Learning/TensorFlow/CS 20SI_youtube_video/class_notes/MNIST_data/t10k-images-idx3-ubyte.gz\n",
      "Extracting D:/Deep_Learning/TensorFlow/CS 20SI_youtube_video/class_notes/MNIST_data/t10k-labels-idx1-ubyte.gz\n",
      "train data : (55000, 784)\n",
      "test  data : (10000, 784)\n"
     ]
    }
   ],
   "source": [
    "#   prepare the data\n",
    "data=\"D:/Deep_Learning/TensorFlow/CS 20SI_youtube_video/class_notes/MNIST_data/\"\n",
    "mnist = input_data.read_data_sets(data, one_hot=True)\n",
    "print(\"train data :\",mnist.train.images.shape)\n",
    "print(\"test  data :\",mnist.test.images.shape)"
   ]
  },
  {
   "cell_type": "markdown",
   "metadata": {},
   "source": [
    "##  2.  Define student Network"
   ]
  },
  {
   "cell_type": "code",
   "execution_count": 3,
   "metadata": {
    "collapsed": false
   },
   "outputs": [],
   "source": [
    "x = tf.placeholder(tf.float32,[None, 784], name='Data')\n",
    "y_ = tf.placeholder(tf.float32, [None, 10], name='s_label')\n",
    "\n",
    "W1 = tf.Variable(tf.truncated_normal([784, 800]),name='s_W1')\n",
    "b1 = tf.Variable(tf.truncated_normal([800]),name='s_b1')\n",
    "h_1 = tf.matmul(x, W1,name='h_1')\n",
    "h_1 = tf.nn.relu(tf.add(h_1, b1,name='h_1_b'))\n",
    "\n",
    "W2 = tf.Variable(tf.truncated_normal([800,800]),name='s_W2')\n",
    "b2 = tf.Variable(tf.truncated_normal([800]),name='s_b2')\n",
    "h_2 = tf.matmul(h_1, W2, name='h_2')\n",
    "h_2 = tf.nn.relu(tf.add(h_2, b2 , name='h_2_b'))\n",
    "\n",
    "W3 = tf.Variable(tf.truncated_normal([800,10]), name='s_W3')\n",
    "b3 = tf.Variable(tf.truncated_normal([10]), name='s_b3')\n",
    "logits = tf.matmul(h_2, W3, name='s_logits')\n",
    "logits = tf.add(logits, b3, name='s_logits_b')"
   ]
  },
  {
   "cell_type": "markdown",
   "metadata": {},
   "source": [
    "##  3. Define Loss and Optimiator"
   ]
  },
  {
   "cell_type": "code",
   "execution_count": 4,
   "metadata": {
    "collapsed": false
   },
   "outputs": [],
   "source": [
    "# loss\n",
    "logits_pre = logits - tf.reduce_max(logits)\n",
    "loss_pre = tf.nn.softmax_cross_entropy_with_logits(logits=logits_pre,labels=y_, name='hd_loss_pre')\n",
    "loss = tf.reduce_mean(tf.nn.softmax_cross_entropy_with_logits(logits=logits_pre,labels=y_, name='hd_loss'))\n",
    "\n",
    "# Define Optimizer\n",
    "train_step = tf.train.AdamOptimizer(1e-3).minimize(loss)\n",
    "\n",
    "correct_prediction =tf.equal(tf.argmax(logits,1), tf.argmax(y_, 1))\n",
    "accuracy = tf.reduce_mean(tf.cast(correct_prediction, tf.float32),name='accurarcy_s')\n",
    "\n",
    "# Define Log Summary\n",
    "tf.summary.scalar('loss', loss)\n",
    "tf.summary.scalar('accuracy', accuracy)\n",
    "merged = tf.summary.merge_all()\n",
    "saver = tf.train.Saver()"
   ]
  },
  {
   "cell_type": "markdown",
   "metadata": {},
   "source": [
    "## 4. Define Session and train  processing"
   ]
  },
  {
   "cell_type": "code",
   "execution_count": 6,
   "metadata": {
    "collapsed": false,
    "scrolled": false
   },
   "outputs": [
    {
     "name": "stdout",
     "output_type": "stream",
     "text": [
      "iter 0  loss : 5362.22,  accuracy = 0.0854\n",
      "iter 200  loss : 144.812,  accuracy = 0.8558\n",
      "iter 400  loss : 91.5502,  accuracy = 0.904\n",
      "iter 600  loss : 71.2664,  accuracy = 0.9182\n",
      "iter 800  loss : 62.1026,  accuracy = 0.926\n",
      "iter 1000  loss : 53.2908,  accuracy = 0.9312\n",
      "iter 1200  loss : 48.4591,  accuracy = 0.9324\n",
      "iter 1400  loss : 45.3006,  accuracy = 0.9404\n",
      "iter 1600  loss : 40.9602,  accuracy = 0.9456\n",
      "iter 1800  loss : 43.2199,  accuracy = 0.938\n",
      "iter 2000  loss : 38.8856,  accuracy = 0.9436\n",
      "iter 2200  loss : 35.2552,  accuracy = 0.9484\n",
      "iter 2400  loss : 35.4633,  accuracy = 0.9522\n",
      "iter 2600  loss : 36.9727,  accuracy = 0.9512\n",
      "iter 2800  loss : 32.5431,  accuracy = 0.9534\n",
      "iter 3000  loss : 34.9655,  accuracy = 0.952\n",
      "iter 3200  loss : 32.6741,  accuracy = 0.9516\n",
      "iter 3400  loss : 31.2108,  accuracy = 0.9548\n",
      "iter 3600  loss : 30.6269,  accuracy = 0.9554\n",
      "iter 3800  loss : 34.3033,  accuracy = 0.9506\n",
      "iter 4000  loss : 30.6043,  accuracy = 0.9564\n",
      "iter 4200  loss : 32.587,  accuracy = 0.9566\n",
      "iter 4400  loss : 29.9932,  accuracy = 0.9574\n",
      "iter 4600  loss : 27.9123,  accuracy = 0.9592\n",
      "iter 4800  loss : 27.4412,  accuracy = 0.9582\n",
      "iter 5000  loss : 30.5085,  accuracy = 0.9574\n",
      "iter 5200  loss : 31.9896,  accuracy = 0.9556\n",
      "iter 5400  loss : 29.4344,  accuracy = 0.9612\n",
      "iter 5600  loss : 32.5365,  accuracy = 0.9572\n",
      "iter 5800  loss : 32.3984,  accuracy = 0.9596\n",
      "iter 6000  loss : 34.6596,  accuracy = 0.9574\n",
      "iter 6200  loss : 30.0556,  accuracy = 0.965\n",
      "iter 6400  loss : 28.3397,  accuracy = 0.966\n",
      "iter 6600  loss : 28.6414,  accuracy = 0.9638\n",
      "iter 6800  loss : 26.1666,  accuracy = 0.9644\n",
      "iter 7000  loss : 28.5563,  accuracy = 0.9646\n",
      "iter 7200  loss : 27.9805,  accuracy = 0.9658\n",
      "iter 7400  loss : 26.4424,  accuracy = 0.968\n",
      "iter 7600  loss : 30.5866,  accuracy = 0.9632\n",
      "iter 7800  loss : 27.0425,  accuracy = 0.9642\n",
      "iter 8000  loss : 27.8209,  accuracy = 0.966\n",
      "iter 8200  loss : 26.7039,  accuracy = 0.9666\n",
      "iter 8400  loss : 29.2792,  accuracy = 0.963\n",
      "iter 8600  loss : 28.3741,  accuracy = 0.9636\n",
      "iter 8800  loss : 25.7584,  accuracy = 0.968\n",
      "iter 9000  loss : 31.6459,  accuracy = 0.963\n",
      "iter 9200  loss : 27.2827,  accuracy = 0.9698\n",
      "iter 9400  loss : 32.7373,  accuracy = 0.9632\n",
      "iter 9600  loss : 29.3672,  accuracy = 0.9656\n",
      "iter 9800  loss : 26.8048,  accuracy = 0.9684\n",
      "iter 10000  loss : 27.1717,  accuracy = 0.9668\n",
      "iter 10200  loss : 25.6426,  accuracy = 0.9696\n",
      "iter 10400  loss : 24.4717,  accuracy = 0.9688\n",
      "iter 10600  loss : 25.9024,  accuracy = 0.9674\n",
      "iter 10800  loss : 26.2525,  accuracy = 0.9694\n",
      "Final test accuracy : 0.9697\n",
      "train Done.\n"
     ]
    }
   ],
   "source": [
    "tf.device(\"/cpu:0\")\n",
    "with tf.Session() as sess:\n",
    "    sess.run(tf.global_variables_initializer())\n",
    "    writer = tf.summary.FileWriter(\"./log\",sess.graph)\n",
    "    for i in range(11000):\n",
    "        batch = mnist.train.next_batch(100)\n",
    "        \n",
    "        if i%200 == 0:\n",
    "            summary = sess.run(merged, feed_dict={x:mnist.validation.images, y_:mnist.validation.labels})\n",
    "            loss_, acc_ = sess.run([loss, accuracy], feed_dict={x:mnist.validation.images, y_:mnist.validation.labels})\n",
    "            writer.add_summary(summary,i)\n",
    "            #print(\"iter %d\"% i)\n",
    "            print(\"iter %d  loss : %g,  accuracy = %g\" %  (i, loss_, acc_))\n",
    "            \n",
    "        train_step.run(feed_dict={x:batch[0], y_:batch[1]})\n",
    "        \n",
    "    print(\"Final test accuracy : %g\" % sess.run(accuracy, feed_dict={x:mnist.test.images, y_ : mnist.test.labels}))\n",
    "    print(\"train Done.\")\n",
    "    #\"\"\"\n",
    "    "
   ]
  },
  {
   "cell_type": "code",
   "execution_count": null,
   "metadata": {
    "collapsed": true
   },
   "outputs": [],
   "source": []
  }
 ],
 "metadata": {
  "anaconda-cloud": {},
  "kernelspec": {
   "display_name": "Python [Root]",
   "language": "python",
   "name": "Python [Root]"
  },
  "language_info": {
   "codemirror_mode": {
    "name": "ipython",
    "version": 3
   },
   "file_extension": ".py",
   "mimetype": "text/x-python",
   "name": "python",
   "nbconvert_exporter": "python",
   "pygments_lexer": "ipython3",
   "version": "3.5.2"
  }
 },
 "nbformat": 4,
 "nbformat_minor": 0
}
